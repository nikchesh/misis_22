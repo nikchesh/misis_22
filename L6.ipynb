{
 "cells": [
  {
   "cell_type": "markdown",
   "id": "controversial-title",
   "metadata": {},
   "source": [
    "# Урок 6\n"
   ]
  },
  {
   "cell_type": "markdown",
   "id": "d14e1c8f",
   "metadata": {},
   "source": [
    "# ДЗ"
   ]
  },
  {
   "cell_type": "markdown",
   "id": "dimensional-ministry",
   "metadata": {},
   "source": [
    "Задача 1. Напишите программу с классом Student, в котором есть три атрибута: name, groupNumber и age. По умолчанию name = Ivan, age = 18, groupNumber = 10A. Необходимо создать пять методов: getName, getAge, getGroupNumber, setNameAge, setGroupNumber. Метод getName нужен для получения данных об имени конкретного студента, метод getAge нужен для получения данных о возрасте конкретного студента, vетод setGroupNumberнужен для получения данных о номере группы конкретного студента. Метод SetNameAge позволяет изменить данные атрибутов установленных по умолчанию, метод setGroupNumber позволяет изменить номер группы установленный по умолчанию. В программе необходимо создать пять экземпляров класса Student, установить им разные имена, возраст и номер группы.\n",
    "\n"
   ]
  },
  {
   "cell_type": "code",
   "execution_count": 15,
   "id": "af54628d",
   "metadata": {},
   "outputs": [
    {
     "name": "stdout",
     "output_type": "stream",
     "text": [
      "Студент 1:\n",
      "ФИО: Ivan \n",
      "Возраст: 18 \n",
      "Номер Группы: 10A\n",
      "Студент 2:\n",
      "ФИО: Николай \n",
      "Возраст: 22 \n",
      "Номер Группы: 83Б\n",
      "Студент 3:\n",
      "ФИО: Антон \n",
      "Возраст: 12 \n",
      "Номер Группы: 23A\n",
      "Студент 4:\n",
      "ФИО: Ольга \n",
      "Возраст: 43 \n",
      "Номер Группы: 11Б\n",
      "Студент 5:\n",
      "ФИО: Стас \n",
      "Возраст: 19 \n",
      "Номер Группы: 22М\n"
     ]
    }
   ],
   "source": [
    "class Student():\n",
    "    def __init__(self, name='Ivan', age=18, groupNumber='10A'):\n",
    "        self.name = name\n",
    "        self.age = age\n",
    "        self.groupNumber = groupNumber\n",
    "    \n",
    "    def __str__(self):\n",
    "        return f'ФИО: {self.name} \\nВозраст: {self.age} \\nНомер Группы: {self.groupNumber}'\n",
    "    \n",
    "    def getName(self):\n",
    "        return self.name\n",
    "    \n",
    "    def getAge(self):\n",
    "        return self.age\n",
    "    \n",
    "    def getGroupNumber(self):\n",
    "        return self.groupNumber\n",
    "    \n",
    "    def setNameAge(self, name, age):\n",
    "        self.name = name\n",
    "        self.age = age\n",
    "    \n",
    "    def setAge(self, age):\n",
    "        self.age = age\n",
    "    \n",
    "    def setGroupNumber(self, groupNumber):\n",
    "        self.groupNumber = groupNumber\n",
    "print(\"Студент 1:\")\n",
    "student1 = Student()\n",
    "print(student1)\n",
    "print(\"Студент 2:\")\n",
    "student2 = Student(\"Николай\", \"22\", \"83Б\")\n",
    "print(student2)\n",
    "print(\"Студент 3:\")\n",
    "student3 = Student()\n",
    "student3.setNameAge(\"Антон\", \"12\")\n",
    "student3.setGroupNumber(\"23A\")\n",
    "print(student3)\n",
    "print(\"Студент 4:\")\n",
    "student4 = Student(\"Ольга\", 43, \"11Б\")\n",
    "print(student4)\n",
    "print(\"Студент 5:\")\n",
    "student5 = Student(\"Стас\", 19, \"22М\")\n",
    "print(student5)"
   ]
  },
  {
   "cell_type": "markdown",
   "id": "quality-positive",
   "metadata": {},
   "source": [
    "Задача 2. Напишите программу с классом Car. Создайте конструктор класса Car. Создайте атрибуты класса Car — color (цвет), type (тип), year (год). Напишите пять методов. Первый — запуск автомобиля, при его вызове выводится сообщение «Автомобиль заведен». Второй — отключение автомобиля — выводит сообщение «Автомобиль заглушен». Третий — присвоение автомобилю года выпуска. Четвертый метод — присвоение автомобилю типа. Пятый — присвоение автомобилю цвета.\n",
    "\n"
   ]
  },
  {
   "cell_type": "code",
   "execution_count": 29,
   "id": "6c6c0be3",
   "metadata": {},
   "outputs": [
    {
     "name": "stdout",
     "output_type": "stream",
     "text": [
      "black t1 1999\n",
      "Автомобиль заведен\n",
      "Автомобиль заглушен\n"
     ]
    }
   ],
   "source": [
    "class Car():\n",
    "    \n",
    "    def __init__(self, color, type, year):\n",
    "        self.engine_on = False\n",
    "        self.color = color\n",
    "        self.type = type\n",
    "        self.year = year\n",
    "\n",
    "    def turnOn(self):\n",
    "        print(\"Автомобиль заведен\")\n",
    "    def turnOff(self):\n",
    "        print(\"Автомобиль заглушен\")\n",
    "    def setYear(self, year):\n",
    "        self.year = year\n",
    "    def setType(self, type):\n",
    "        self.type=type\n",
    "    def setColor(self, color):\n",
    "        self.color=color\n",
    "\n",
    "car1 = Car(\"green\",  \"t0\", 2000)\n",
    "car1.setYear(1999)\n",
    "car1.setType(\"t1\")\n",
    "car1.setColor(\"black\")\n",
    "print(car1.color, car1.type, car1.year)\n",
    "car1.turnOn()\n",
    "car1.turnOff()"
   ]
  },
  {
   "cell_type": "markdown",
   "id": "familiar-rachel",
   "metadata": {},
   "source": [
    "Задача 3. Допишите функцию Nutrion"
   ]
  },
  {
   "cell_type": "code",
   "execution_count": 57,
   "id": "79731015",
   "metadata": {},
   "outputs": [],
   "source": [
    "class NutritionInfo:\n",
    "    def __init__(self, proteins, carbs, fats):\n",
    "        self.proteins = proteins\n",
    "        self.carbs = carbs\n",
    "        self.fats = fats\n",
    "    \n",
    "    def __add__(self, other):\n",
    "        return NutritionInfo(self.proteins + other.proteins, self.carbs + other.carbs, self.fats + other.fats)\n",
    "    \n",
    "    def __mul__(self, other):\n",
    "        if type(self) == type(other):\n",
    "            return NutritionInfo(self.proteins * other.proteins, self.carbs * other.carbs, self.fats * other.fats)\n",
    "        elif type(other)==int or type(other)==float:\n",
    "            return NutritionInfo(self.proteins*other, self.carbs*other, self.fats*other)\n",
    "\n",
    "    \n",
    "    def __str__(self):\n",
    "        return f\"Nutrition p {self.proteins}, c {self.carbs}, f {self.fats}\"\n",
    "        \n",
    "    def energy(self):\n",
    "        return int(self.fats * 9 + (self.carbs + self.proteins) * 4.2)"
   ]
  },
  {
   "cell_type": "code",
   "execution_count": 58,
   "id": "91db6f61",
   "metadata": {},
   "outputs": [
    {
     "name": "stdout",
     "output_type": "stream",
     "text": [
      "Nutrition p 1, c 4, f 9\n",
      "Nutrition p 4, c 8, f 12\n"
     ]
    }
   ],
   "source": [
    "egg = NutritionInfo(1, 2, 3)\n",
    "pastila = NutritionInfo(1, 2, 3)\n",
    "tvorog_9 = NutritionInfo(18, 3, 9)\n",
    "apple = NutritionInfo(0, 25, 0)\n",
    "\n",
    "print(egg * pastila)\n",
    "print(egg*4)"
   ]
  }
 ],
 "metadata": {
  "kernelspec": {
   "display_name": "Python 3 (ipykernel)",
   "language": "python",
   "name": "python3"
  },
  "language_info": {
   "codemirror_mode": {
    "name": "ipython",
    "version": 3
   },
   "file_extension": ".py",
   "mimetype": "text/x-python",
   "name": "python",
   "nbconvert_exporter": "python",
   "pygments_lexer": "ipython3",
   "version": "3.9.0"
  }
 },
 "nbformat": 4,
 "nbformat_minor": 5
}
