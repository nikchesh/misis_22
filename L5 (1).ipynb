{
 "cells": [
  {
   "cell_type": "markdown",
   "id": "private-geology",
   "metadata": {},
   "source": [
    "# Урок 5"
   ]
  },
  {
   "cell_type": "markdown",
   "id": "horizontal-logic",
   "metadata": {},
   "source": [
    "## ДЗ"
   ]
  },
  {
   "cell_type": "markdown",
   "id": "large-distribution",
   "metadata": {},
   "source": [
    "1) Средний бал и список отстающих учеников"
   ]
  },
  {
   "cell_type": "code",
   "execution_count": null,
   "id": "korean-hungarian",
   "metadata": {},
   "outputs": [],
   "source": [
    "Иванов О. 4\n",
    "Петров И. 3\n",
    "Дмитриев Н. 2\n",
    "Смирнова О. 4\n",
    "Керченских В. 5\n",
    "Котов Д. 2\n",
    "Бирюкова Н. 1\n",
    "Данилов П. 3\n",
    "Аранских В. 5\n",
    "Лемонов Ю. 2\n",
    "Олегова К. 4"
   ]
  },
  {
   "cell_type": "code",
   "execution_count": 71,
   "id": "constant-violence",
   "metadata": {},
   "outputs": [
    {
     "name": "stdout",
     "output_type": "stream",
     "text": [
      "35\n",
      "11\n",
      "Список отстающих учащихся:\n",
      "['Петров И.', 'Дмитриев Н.', 'Котов Д.', 'Бирюкова Н.', 'Данилов П.', 'Лемонов Ю.']\n",
      "Средний бал:\n",
      "3.1818181818181817\n"
     ]
    }
   ],
   "source": [
    "#Я первый раз тыкал pandas. Стало интересно попробовать, сделал на кластере\n",
    "import pandas as pd\n",
    "df = pd.read_csv('file1.csv',delimiter = ' ', names=['firstName', 'SecondName' , 'marks'])\n",
    "badMarks = [1,2, 3]\n",
    "badDf = df.loc[df['marks'].isin(badMarks)]\n",
    "list = (badDf['firstName'].astype(str) + ' ' + badDf['SecondName'].astype(str)).tolist()\n",
    "sum = df['marks'].sum()\n",
    "count = df['firstName'].count()\n",
    "print(sum)\n",
    "print(count)\n",
    "mdl = sum/count\n",
    "print(\"Список отстающих учащихся:\")\n",
    "print(list)\n",
    "print(\"Средний бал:\")\n",
    "print(mdl)"
   ]
  },
  {
   "cell_type": "code",
   "execution_count": null,
   "id": "cfee4f7f",
   "metadata": {},
   "outputs": [],
   "source": []
  },
  {
   "cell_type": "markdown",
   "id": "mature-guide",
   "metadata": {},
   "source": [
    "2) Посчитать количество определенных слов в файле"
   ]
  },
  {
   "cell_type": "code",
   "execution_count": null,
   "id": "casual-board",
   "metadata": {},
   "outputs": [],
   "source": [
    "Понедельник\n",
    "\tФизика (лекц.)\n",
    "\tФизика (лаб.)\n",
    "\tАлгебра (практ.)\n",
    " \n",
    "Вторник\n",
    "\tГеометрия (лекц.)\n",
    "\tФизика (практ.)\n",
    "\tФизика (лаба.)\n",
    "\tФизкультура (практик.)\n",
    "..."
   ]
  },
  {
   "cell_type": "code",
   "execution_count": 12,
   "id": "481b35a5",
   "metadata": {},
   "outputs": [],
   "source": [
    "#запутался , тут есть что-то дальше вторника?\n",
    "lec = 0\n",
    "pract = 0\n",
    "lab = 0\n",
    "with open(\"file2.txt\", 'r', encoding = \"utf-8\") as file:\n",
    "    lines = file.read().split('\\n')\n",
    "for line in lines:\n",
    "    if \"лекц.\" in line:\n",
    "        lec += 1\n",
    "    elif \"лаб\" in line:\n",
    "        lab += 1\n",
    "    elif \"практ\" in line:\n",
    "        pract += 1"
   ]
  },
  {
   "cell_type": "code",
   "execution_count": 13,
   "id": "written-matthew",
   "metadata": {},
   "outputs": [
    {
     "name": "stdout",
     "output_type": "stream",
     "text": [
      "Лекций: 2\n",
      "Практических: 3\n",
      "Лабораторных: 2\n"
     ]
    }
   ],
   "source": [
    "print('Лекций:', lec)\n",
    "print('Практических:', pract)\n",
    "print('Лабораторных:', lab)"
   ]
  },
  {
   "cell_type": "markdown",
   "id": "young-prince",
   "metadata": {},
   "source": [
    "3) Откройте Telegram, найдите @BotFather и начните беседу. Отправьте команду /newbot и следуйте инструкциям."
   ]
  },
  {
   "cell_type": "markdown",
   "id": "infrared-hamilton",
   "metadata": {},
   "source": [
    "свой токен;\n",
    "адрес Telegram API (https://api.telegram.org/bot);\n",
    "ссылку на документацию.\n",
    "Обязательно сохраните токен, так как это ключ для взаимодействия с ботом."
   ]
  },
  {
   "cell_type": "markdown",
   "id": "vocational-bikini",
   "metadata": {},
   "source": [
    "Хранение токена должно быть локальным: ни в коем случае не выгружайте его в общий доступ, например в GitHub-репозиторий ."
   ]
  },
  {
   "cell_type": "markdown",
   "id": "banned-substance",
   "metadata": {},
   "source": [
    "4) Выведите список файлов в указанной директории. например где у вас лежат ваши тетради\n",
    "\n"
   ]
  },
  {
   "cell_type": "code",
   "execution_count": 14,
   "id": "5df6f19a",
   "metadata": {},
   "outputs": [
    {
     "name": "stdout",
     "output_type": "stream",
     "text": [
      "L2.ipynb\n",
      "L3 .ipynb\n",
      "L4.ipynb\n"
     ]
    }
   ],
   "source": [
    "import glob\n",
    "d = glob.glob(\"D:\\мисис\\питон-1\\misis_22\\*\")\n",
    "for i in d:\n",
    "    c = i.split(\"\\\\\")\n",
    "    print(c[len(c) - 1])\n",
    "    "
   ]
  },
  {
   "cell_type": "markdown",
   "id": "actual-shakespeare",
   "metadata": {},
   "source": [
    "5) Напишите программу, которая принимает текст и выводит два слова: наиболее часто встречающееся и самое длинное."
   ]
  },
  {
   "cell_type": "markdown",
   "id": "neural-cricket",
   "metadata": {},
   "source": [
    "Варкалось. Хливкие шорьки\n",
    "Пырялись по наве,\n",
    "И хрюкотали зелюки,\n",
    "Как мюмзики в мове.\n",
    "\n",
    "О, бойся Бармаглота, сын!\n",
    "Он так свирлеп и дик!\n",
    "А в глу́ше ры́мит исполин —\n",
    "Злопастный Брандашмыг!\n",
    "\n",
    "Но взял он меч, и взял он щит,\n",
    "Высоких полон дум.\n",
    "В глущобу путь его лежит\n",
    "Под дерево Тумтум.\n",
    "\n",
    "Он стал под дерево и ждёт.\n",
    "И вдруг граахнул гром —\n",
    "Летит ужасный Бармаглот\n",
    "И пылкает огнём!\n",
    "\n",
    "Раз-два, раз-два! Горит трава,\n",
    "Взы-взы — стрижает меч,\n",
    "Ува! Ува! И голова\n",
    "Барабардает с плеч!\n",
    "\n",
    "О светозарный мальчик мой!\n",
    "Ты победил в бою!\n",
    "О храброславленный герой,\n",
    "Хвалу тебе пою!\n",
    "\n",
    "Варкалось. Хливкие шорьки\n",
    "Пырялись по наве.\n",
    "И хрюкотали зелюки,\n",
    "Как мюмзики в мове."
   ]
  },
  {
   "cell_type": "code",
   "execution_count": 70,
   "id": "ca7bf2e5",
   "metadata": {},
   "outputs": [
    {
     "name": "stdout",
     "output_type": "stream",
     "text": [
      "Самое длинное слово:\n",
      "храброславленный\n",
      "Наиболее часто встречающееся слово:\n",
      "И\n"
     ]
    }
   ],
   "source": [
    "import re\n",
    "\n",
    "with open(\"file3.txt\", 'r', encoding = \"utf-8\") as file:\n",
    "    lines = file.read().split('\\n')\n",
    "listAllWords = []\n",
    "maxWord = \"\"\n",
    "for line in lines:\n",
    "    reg = re.compile('[^а-яА-Яё ]')\n",
    "    cleanLine = reg.sub('', line)\n",
    "    listWords = cleanLine.split(\" \")\n",
    "    for word in listWords:\n",
    "        if (len(word) > len(maxWord)):\n",
    "            maxWord = word\n",
    "        if (word != ''):\n",
    "            listAllWords += [(word, )]\n",
    "\n",
    "    \n",
    "print(\"Самое длинное слово:\")    \n",
    "print(maxWord)\n",
    "\n",
    "\n",
    "from collections import Counter\n",
    "  \n",
    "res = []\n",
    "temp = set()\n",
    "maxCount = 0\n",
    "maxCountWord = \"\"\n",
    "counter = Counter(listAllWords)\n",
    "for sub in listAllWords:\n",
    "    if sub not in temp:\n",
    "        res.append((counter[sub], ) + sub)\n",
    "        temp.add(sub)\n",
    "\n",
    "for t in res: \n",
    "    if (t[0] > maxCount):\n",
    "        maxCount = t[0]\n",
    "        maxCountWord = t[1]\n",
    "print(\"Наиболее часто встречающееся слово:\")       \n",
    "print(maxCountWord)"
   ]
  }
 ],
 "metadata": {
  "kernelspec": {
   "display_name": "Python 3 (ipykernel)",
   "language": "python",
   "name": "python3"
  },
  "language_info": {
   "codemirror_mode": {
    "name": "ipython",
    "version": 3
   },
   "file_extension": ".py",
   "mimetype": "text/x-python",
   "name": "python",
   "nbconvert_exporter": "python",
   "pygments_lexer": "ipython3",
   "version": "3.9.0"
  }
 },
 "nbformat": 4,
 "nbformat_minor": 5
}
